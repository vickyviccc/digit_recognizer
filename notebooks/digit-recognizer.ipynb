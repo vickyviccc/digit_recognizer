{
 "cells": [
  {
   "cell_type": "code",
   "execution_count": 1,
   "id": "527c4656",
   "metadata": {
    "_cell_guid": "b1076dfc-b9ad-4769-8c92-a6c4dae69d19",
    "_uuid": "8f2839f25d086af736a60e9eeb907d3b93b6e0e5",
    "execution": {
     "iopub.execute_input": "2024-10-17T17:00:22.191690Z",
     "iopub.status.busy": "2024-10-17T17:00:22.190157Z",
     "iopub.status.idle": "2024-10-17T17:00:23.156767Z",
     "shell.execute_reply": "2024-10-17T17:00:23.155306Z"
    },
    "papermill": {
     "duration": 0.975888,
     "end_time": "2024-10-17T17:00:23.159579",
     "exception": false,
     "start_time": "2024-10-17T17:00:22.183691",
     "status": "completed"
    },
    "tags": []
   },
   "outputs": [
    {
     "name": "stdout",
     "output_type": "stream",
     "text": [
      "/kaggle/input/digit-recognizer/sample_submission.csv\n",
      "/kaggle/input/digit-recognizer/train.csv\n",
      "/kaggle/input/digit-recognizer/test.csv\n"
     ]
    }
   ],
   "source": [
    "# This Python 3 environment comes with many helpful analytics libraries installed\n",
    "# It is defined by the kaggle/python Docker image: https://github.com/kaggle/docker-python\n",
    "# For example, here's several helpful packages to load\n",
    "\n",
    "import numpy as np # linear algebra\n",
    "import pandas as pd # data processing, CSV file I/O (e.g. pd.read_csv)\n",
    "\n",
    "# Input data files are available in the read-only \"../input/\" directory\n",
    "# For example, running this (by clicking run or pressing Shift+Enter) will list all files under the input directory\n",
    "\n",
    "import os\n",
    "for dirname, _, filenames in os.walk('/kaggle/input'):\n",
    "    for filename in filenames:\n",
    "        print(os.path.join(dirname, filename))\n",
    "\n",
    "# You can write up to 20GB to the current directory (/kaggle/working/) that gets preserved as output when you create a version using \"Save & Run All\" \n",
    "# You can also write temporary files to /kaggle/temp/, but they won't be saved outside of the current session"
   ]
  },
  {
   "cell_type": "code",
   "execution_count": 2,
   "id": "4e7864cf",
   "metadata": {
    "execution": {
     "iopub.execute_input": "2024-10-17T17:00:23.170316Z",
     "iopub.status.busy": "2024-10-17T17:00:23.169138Z",
     "iopub.status.idle": "2024-10-17T17:00:30.393764Z",
     "shell.execute_reply": "2024-10-17T17:00:30.392615Z"
    },
    "papermill": {
     "duration": 7.23309,
     "end_time": "2024-10-17T17:00:30.396992",
     "exception": false,
     "start_time": "2024-10-17T17:00:23.163902",
     "status": "completed"
    },
    "tags": []
   },
   "outputs": [
    {
     "name": "stdout",
     "output_type": "stream",
     "text": [
      "(42000, 785)\n",
      "(28000, 784)\n"
     ]
    },
    {
     "data": {
      "image/png": "[encoded data removed]",
      "text/plain": [
       "<Figure size 640x480 with 1 Axes>"
      ]
     },
     "metadata": {},
     "output_type": "display_data"
    }
   ],
   "source": [
    "import pandas as pd\n",
    "import matplotlib.pyplot as plt\n",
    "\n",
    "# Load the training and test data\n",
    "train_data = pd.read_csv('/kaggle/input/digit-recognizer/train.csv')\n",
    "test_data = pd.read_csv('/kaggle/input/digit-recognizer/test.csv')\n",
    "\n",
    "# Check the structure of the data\n",
    "print(train_data.shape)  # 42000 rows and 785 columns (1 label + 784 pixel values)\n",
    "print(test_data.shape)   # 28000 rows and 784 columns (784 pixel values)\n",
    "\n",
    "# Separate labels from the pixel values in the training data\n",
    "X_train = train_data.drop('label', axis=1)\n",
    "y_train = train_data['label']\n",
    "\n",
    "# Visualize some example digits\n",
    "example_image = X_train.iloc[0].values.reshape(28,28)\n",
    "plt.imshow(example_image, cmap='gray')\n",
    "plt.title(f'Label: {y_train.iloc[0]}')\n",
    "plt.show()\n"
   ]
  },
  {
   "cell_type": "code",
   "execution_count": 3,
   "id": "862cf47f",
   "metadata": {
    "execution": {
     "iopub.execute_input": "2024-10-17T17:00:30.407556Z",
     "iopub.status.busy": "2024-10-17T17:00:30.407103Z",
     "iopub.status.idle": "2024-10-17T17:00:30.522619Z",
     "shell.execute_reply": "2024-10-17T17:00:30.521395Z"
    },
    "papermill": {
     "duration": 0.1241,
     "end_time": "2024-10-17T17:00:30.525526",
     "exception": false,
     "start_time": "2024-10-17T17:00:30.401426",
     "status": "completed"
    },
    "tags": []
   },
   "outputs": [],
   "source": [
    "# Normalize the pixel values (0-255) to (0-1)\n",
    "X_train = X_train / 255.0\n",
    "test_data = test_data / 255.0\n"
   ]
  },
  {
   "cell_type": "code",
   "execution_count": 4,
   "id": "48aab1f3",
   "metadata": {
    "execution": {
     "iopub.execute_input": "2024-10-17T17:00:30.535905Z",
     "iopub.status.busy": "2024-10-17T17:00:30.535498Z",
     "iopub.status.idle": "2024-10-17T17:01:31.910092Z",
     "shell.execute_reply": "2024-10-17T17:01:31.908334Z"
    },
    "papermill": {
     "duration": 61.385937,
     "end_time": "2024-10-17T17:01:31.915824",
     "exception": false,
     "start_time": "2024-10-17T17:00:30.529887",
     "status": "completed"
    },
    "tags": []
   },
   "outputs": [
    {
     "name": "stdout",
     "output_type": "stream",
     "text": [
      "Validation Accuracy: 0.9189\n"
     ]
    }
   ],
   "source": [
    "from sklearn.linear_model import LogisticRegression\n",
    "from sklearn.metrics import accuracy_score\n",
    "from sklearn.model_selection import train_test_split\n",
    "\n",
    "# Split the training data into train and validation sets\n",
    "X_train_split, X_val_split, y_train_split, y_val_split = train_test_split(X_train, y_train, test_size=0.2, random_state=42)\n",
    "\n",
    "# Initialize and train the model\n",
    "log_reg = LogisticRegression(max_iter=1000)\n",
    "log_reg.fit(X_train_split, y_train_split)\n",
    "\n",
    "# Make predictions on the validation set\n",
    "y_val_pred = log_reg.predict(X_val_split)\n",
    "\n",
    "# Calculate validation accuracy\n",
    "val_accuracy = accuracy_score(y_val_split, y_val_pred)\n",
    "print(f'Validation Accuracy: {val_accuracy:.4f}')\n"
   ]
  },
  {
   "cell_type": "code",
   "execution_count": 5,
   "id": "92da9c68",
   "metadata": {
    "execution": {
     "iopub.execute_input": "2024-10-17T17:01:31.937116Z",
     "iopub.status.busy": "2024-10-17T17:01:31.935874Z",
     "iopub.status.idle": "2024-10-17T17:01:32.135590Z",
     "shell.execute_reply": "2024-10-17T17:01:32.133913Z"
    },
    "papermill": {
     "duration": 0.215729,
     "end_time": "2024-10-17T17:01:32.140632",
     "exception": false,
     "start_time": "2024-10-17T17:01:31.924903",
     "status": "completed"
    },
    "tags": []
   },
   "outputs": [],
   "source": [
    "# Make predictions on the test data\n",
    "test_predictions = log_reg.predict(test_data)\n",
    "\n",
    "# Prepare the submission file\n",
    "submission = pd.DataFrame({\n",
    "    'ImageId': range(1, len(test_predictions) + 1),\n",
    "    'Label': test_predictions\n",
    "})\n",
    "\n",
    "submission.to_csv('digit_recognizer_submission.csv', index=False)\n"
   ]
  },
  {
   "cell_type": "code",
   "execution_count": 6,
   "id": "7aa208e1",
   "metadata": {
    "execution": {
     "iopub.execute_input": "2024-10-17T17:01:32.161339Z",
     "iopub.status.busy": "2024-10-17T17:01:32.160623Z",
     "iopub.status.idle": "2024-10-17T17:05:01.324203Z",
     "shell.execute_reply": "2024-10-17T17:05:01.322823Z"
    },
    "papermill": {
     "duration": 209.177268,
     "end_time": "2024-10-17T17:05:01.327258",
     "exception": false,
     "start_time": "2024-10-17T17:01:32.149990",
     "status": "completed"
    },
    "tags": []
   },
   "outputs": [
    {
     "name": "stdout",
     "output_type": "stream",
     "text": [
      "Epoch 1/10\n",
      "\u001b[1m1050/1050\u001b[0m \u001b[32m━━━━━━━━━━━━━━━━━━━━\u001b[0m\u001b[37m\u001b[0m \u001b[1m20s\u001b[0m 18ms/step - accuracy: 0.8570 - loss: 0.4571 - val_accuracy: 0.9790 - val_loss: 0.0680\n",
      "Epoch 2/10\n",
      "\u001b[1m1050/1050\u001b[0m \u001b[32m━━━━━━━━━━━━━━━━━━━━\u001b[0m\u001b[37m\u001b[0m \u001b[1m19s\u001b[0m 18ms/step - accuracy: 0.9804 - loss: 0.0636 - val_accuracy: 0.9811 - val_loss: 0.0599\n",
      "Epoch 3/10\n",
      "\u001b[1m1050/1050\u001b[0m \u001b[32m━━━━━━━━━━━━━━━━━━━━\u001b[0m\u001b[37m\u001b[0m \u001b[1m18s\u001b[0m 17ms/step - accuracy: 0.9862 - loss: 0.0446 - val_accuracy: 0.9880 - val_loss: 0.0412\n",
      "Epoch 4/10\n",
      "\u001b[1m1050/1050\u001b[0m \u001b[32m━━━━━━━━━━━━━━━━━━━━\u001b[0m\u001b[37m\u001b[0m \u001b[1m21s\u001b[0m 18ms/step - accuracy: 0.9904 - loss: 0.0289 - val_accuracy: 0.9861 - val_loss: 0.0424\n",
      "Epoch 5/10\n",
      "\u001b[1m1050/1050\u001b[0m \u001b[32m━━━━━━━━━━━━━━━━━━━━\u001b[0m\u001b[37m\u001b[0m \u001b[1m19s\u001b[0m 18ms/step - accuracy: 0.9923 - loss: 0.0258 - val_accuracy: 0.9874 - val_loss: 0.0416\n",
      "Epoch 6/10\n",
      "\u001b[1m1050/1050\u001b[0m \u001b[32m━━━━━━━━━━━━━━━━━━━━\u001b[0m\u001b[37m\u001b[0m \u001b[1m18s\u001b[0m 17ms/step - accuracy: 0.9941 - loss: 0.0166 - val_accuracy: 0.9879 - val_loss: 0.0399\n",
      "Epoch 7/10\n",
      "\u001b[1m1050/1050\u001b[0m \u001b[32m━━━━━━━━━━━━━━━━━━━━\u001b[0m\u001b[37m\u001b[0m \u001b[1m19s\u001b[0m 18ms/step - accuracy: 0.9954 - loss: 0.0138 - val_accuracy: 0.9877 - val_loss: 0.0428\n",
      "Epoch 8/10\n",
      "\u001b[1m1050/1050\u001b[0m \u001b[32m━━━━━━━━━━━━━━━━━━━━\u001b[0m\u001b[37m\u001b[0m \u001b[1m18s\u001b[0m 17ms/step - accuracy: 0.9965 - loss: 0.0111 - val_accuracy: 0.9895 - val_loss: 0.0377\n",
      "Epoch 9/10\n",
      "\u001b[1m1050/1050\u001b[0m \u001b[32m━━━━━━━━━━━━━━━━━━━━\u001b[0m\u001b[37m\u001b[0m \u001b[1m19s\u001b[0m 18ms/step - accuracy: 0.9975 - loss: 0.0073 - val_accuracy: 0.9892 - val_loss: 0.0439\n",
      "Epoch 10/10\n",
      "\u001b[1m1050/1050\u001b[0m \u001b[32m━━━━━━━━━━━━━━━━━━━━\u001b[0m\u001b[37m\u001b[0m \u001b[1m18s\u001b[0m 17ms/step - accuracy: 0.9969 - loss: 0.0090 - val_accuracy: 0.9881 - val_loss: 0.0429\n",
      "263/263 - 2s - 6ms/step - accuracy: 0.9881 - loss: 0.0429\n",
      "Validation Accuracy: 0.9881\n"
     ]
    }
   ],
   "source": [
    "import pandas as pd\n",
    "import numpy as np\n",
    "import tensorflow as tf\n",
    "from tensorflow.keras import layers, models\n",
    "from sklearn.model_selection import train_test_split\n",
    "\n",
    "# Load the training data from the Kaggle competition dataset\n",
    "train_data = pd.read_csv('/kaggle/input/digit-recognizer/train.csv')\n",
    "\n",
    "# Separate features and labels\n",
    "X_train = train_data.drop('label', axis=1)\n",
    "y_train = train_data['label']\n",
    "\n",
    "# Reshape the training data to fit the CNN input (28x28 pixels, 1 channel)\n",
    "X_train = X_train.values.reshape(-1, 28, 28, 1)\n",
    "\n",
    "# Normalize the pixel values (0-255) to the range (0-1)\n",
    "X_train = X_train / 255.0\n",
    "\n",
    "# Split the data into training and validation sets\n",
    "X_train_split, X_val_split, y_train_split, y_val_split = train_test_split(X_train, y_train, test_size=0.2, random_state=42)\n",
    "\n",
    "# Build the CNN model\n",
    "model = models.Sequential([\n",
    "    layers.Input(shape=(28, 28, 1)),  # Input layer for 28x28 grayscale images\n",
    "    layers.Conv2D(32, (3, 3), activation='relu'),  # First Conv layer with 32 filters\n",
    "    layers.MaxPooling2D((2, 2)),  # First Max-Pooling layer\n",
    "    layers.Conv2D(64, (3, 3), activation='relu'),  # Second Conv layer with 64 filters\n",
    "    layers.MaxPooling2D((2, 2)),  # Second Max-Pooling layer\n",
    "    layers.Flatten(),  # Flattening the image\n",
    "    layers.Dense(64, activation='relu'),  # Fully connected layer with 64 units\n",
    "    layers.Dense(10, activation='softmax')  # Output layer with 10 units for digits (0-9)\n",
    "])\n",
    "\n",
    "# Compile the model\n",
    "model.compile(optimizer='adam', loss='sparse_categorical_crossentropy', metrics=['accuracy'])\n",
    "\n",
    "# Train the model\n",
    "history = model.fit(X_train_split, y_train_split, epochs=10, validation_data=(X_val_split, y_val_split))\n",
    "\n",
    "# Save the model\n",
    "model.save('digit_recognizer_cnn.h5')\n",
    "\n",
    "# Print final validation accuracy\n",
    "val_accuracy = model.evaluate(X_val_split, y_val_split, verbose=2)\n",
    "print(f'Validation Accuracy: {val_accuracy[1]:.4f}')\n"
   ]
  },
  {
   "cell_type": "code",
   "execution_count": 7,
   "id": "610696f9",
   "metadata": {
    "execution": {
     "iopub.execute_input": "2024-10-17T17:05:01.984338Z",
     "iopub.status.busy": "2024-10-17T17:05:01.983724Z",
     "iopub.status.idle": "2024-10-17T17:05:10.226517Z",
     "shell.execute_reply": "2024-10-17T17:05:10.225356Z"
    },
    "papermill": {
     "duration": 8.588768,
     "end_time": "2024-10-17T17:05:10.229374",
     "exception": false,
     "start_time": "2024-10-17T17:05:01.640606",
     "status": "completed"
    },
    "tags": []
   },
   "outputs": [
    {
     "name": "stdout",
     "output_type": "stream",
     "text": [
      "\u001b[1m875/875\u001b[0m \u001b[32m━━━━━━━━━━━━━━━━━━━━\u001b[0m\u001b[37m\u001b[0m \u001b[1m5s\u001b[0m 6ms/step\n"
     ]
    }
   ],
   "source": [
    "# Load the test data\n",
    "test_data = pd.read_csv('/kaggle/input/digit-recognizer/test.csv')\n",
    "\n",
    "# Reshape the test data to fit the CNN input (28x28 pixels, 1 channel)\n",
    "X_test = test_data.values.reshape(-1, 28, 28, 1)\n",
    "\n",
    "# Normalize the pixel values (0-255) to the range (0-1)\n",
    "X_test = X_test / 255.0\n",
    "\n",
    "# Load the trained model (if you want to use a previously saved model)\n",
    "\n",
    "model = tf.keras.models.load_model('digit_recognizer_cnn.h5')\n",
    "\n",
    "# Make predictions on the test data\n",
    "test_predictions = model.predict(X_test)\n",
    "predicted_labels = np.argmax(test_predictions, axis=1)  # Get the index of the highest probability\n",
    "\n",
    "# Create the submission DataFrame\n",
    "submission = pd.DataFrame({\n",
    "    'ImageId': np.arange(1, len(predicted_labels) + 1),\n",
    "    'Label': predicted_labels\n",
    "})\n",
    "\n",
    "# Save the submission file as CSV\n",
    "submission.to_csv('digit_recognizer_submission.csv', index=False)\n"
   ]
  }
 ],
 "metadata": {
  "kaggle": {
   "accelerator": "none",
   "dataSources": [
    {
     "databundleVersionId": 861823,
     "sourceId": 3004,
     "sourceType": "competition"
    }
   ],
   "dockerImageVersionId": 30786,
   "isGpuEnabled": false,
   "isInternetEnabled": true,
   "language": "python",
   "sourceType": "notebook"
  },
  "kernelspec": {
   "display_name": "Python 3",
   "language": "python",
   "name": "python3"
  },
  "language_info": {
   "codemirror_mode": {
    "name": "ipython",
    "version": 3
   },
   "file_extension": ".py",
   "mimetype": "text/x-python",
   "name": "python",
   "nbconvert_exporter": "python",
   "pygments_lexer": "ipython3",
   "version": "3.10.14"
  },
  "papermill": {
   "default_parameters": {},
   "duration": 293.236743,
   "end_time": "2024-10-17T17:05:12.238237",
   "environment_variables": {},
   "exception": null,
   "input_path": "__notebook__.ipynb",
   "output_path": "__notebook__.ipynb",
   "parameters": {},
   "start_time": "2024-10-17T17:00:19.001494",
   "version": "2.6.0"
  }
 },
 "nbformat": 4,
 "nbformat_minor": 5
}
